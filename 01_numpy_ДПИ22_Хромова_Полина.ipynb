{
 "cells": [
  {
   "cell_type": "markdown",
   "metadata": {},
   "source": [
    "# Numpy"
   ]
  },
  {
   "cell_type": "markdown",
   "metadata": {},
   "source": [
    "Материалы:\n",
    "* Макрушин С.В. \"Лекция 1: Библиотека Numpy\"\n",
    "* https://numpy.org/doc/stable/user/index.html\n",
    "* https://numpy.org/doc/stable/reference/index.html"
   ]
  },
  {
   "cell_type": "markdown",
   "metadata": {},
   "source": [
    "## Лабораторная работа №1"
   ]
  },
  {
   "cell_type": "markdown",
   "metadata": {},
   "source": [
    "Замечание: при решении данных задач не подразумевается использования циклов или генераторов Python, если в задании не сказано обратного. Решение должно опираться на использования функционала библиотеки `numpy`."
   ]
  },
  {
   "cell_type": "markdown",
   "metadata": {},
   "source": [
    "1. Файл `minutes_n_ingredients.csv` содержит информацию об идентификаторе рецепта, времени его выполнения в минутах и количестве необходимых ингредиентов. Считайте данные из этого файла в виде массива `numpy` типа `int32`, используя `np.loadtxt`. Выведите на экран первые 5 строк массива."
   ]
  },
  {
   "cell_type": "code",
   "execution_count": 1,
   "metadata": {
    "scrolled": true
   },
   "outputs": [
    {
     "data": {
      "text/plain": [
       "array([[127244,     60,     16],\n",
       "       [ 23891,     25,      7],\n",
       "       [ 94746,     10,      6],\n",
       "       [ 67660,      5,      6],\n",
       "       [157911,     60,     14]])"
      ]
     },
     "execution_count": 1,
     "metadata": {},
     "output_type": "execute_result"
    }
   ],
   "source": [
    "import numpy as np\n",
    "data = np.loadtxt(\"data/minutes_n_ingredients.csv\",dtype=np.int32, delimiter=',', skiprows=1)\n",
    "data[:5, :]"
   ]
  },
  {
   "cell_type": "markdown",
   "metadata": {},
   "source": [
    "2. Вычислите среднее значение, минимум, максимум и медиану по каждому из столбцов, кроме первого."
   ]
  },
  {
   "cell_type": "code",
   "execution_count": 2,
   "metadata": {},
   "outputs": [
    {
     "data": {
      "text/plain": [
       "array([2.16010017e+04, 9.05528000e+00])"
      ]
     },
     "execution_count": 2,
     "metadata": {},
     "output_type": "execute_result"
    }
   ],
   "source": [
    "# Среднее значение\n",
    "#data_2 = np.delete(data, 0, axis=1)\n",
    "data_2 = data[:, 1:]\n",
    "\n",
    "average_value = np.mean(data_2,axis=0)\n",
    "average_value\n",
    "# np.delete(average_value, 0)"
   ]
  },
  {
   "cell_type": "code",
   "execution_count": 3,
   "metadata": {},
   "outputs": [
    {
     "data": {
      "text/plain": [
       "array([0, 1])"
      ]
     },
     "execution_count": 3,
     "metadata": {},
     "output_type": "execute_result"
    }
   ],
   "source": [
    "# Минимальное значение\n",
    "data_2.min(axis=0)"
   ]
  },
  {
   "cell_type": "code",
   "execution_count": 4,
   "metadata": {},
   "outputs": [
    {
     "data": {
      "text/plain": [
       "array([2147483647,         39])"
      ]
     },
     "execution_count": 4,
     "metadata": {},
     "output_type": "execute_result"
    }
   ],
   "source": [
    "# Максимальное значение\n",
    "data_2.max(axis=0)"
   ]
  },
  {
   "cell_type": "code",
   "execution_count": 5,
   "metadata": {},
   "outputs": [
    {
     "data": {
      "text/plain": [
       "array([40.,  9.])"
      ]
     },
     "execution_count": 5,
     "metadata": {},
     "output_type": "execute_result"
    }
   ],
   "source": [
    "# Медиана\n",
    "np.median(data_2, axis=0)"
   ]
  },
  {
   "cell_type": "markdown",
   "metadata": {},
   "source": [
    "3. Ограничьте сверху значения продолжительности выполнения рецепта значением квантиля $q_{0.75}$. "
   ]
  },
  {
   "cell_type": "code",
   "execution_count": 6,
   "metadata": {},
   "outputs": [
    {
     "data": {
      "text/plain": [
       "65.0"
      ]
     },
     "execution_count": 6,
     "metadata": {},
     "output_type": "execute_result"
    }
   ],
   "source": [
    "#data_3 = np.delete(data_2, 1, axis=1)\n",
    "data_3 = data[:, 1:2]\n",
    "np.quantile(data_3, 0.75)"
   ]
  },
  {
   "cell_type": "markdown",
   "metadata": {},
   "source": [
    "4. Посчитайте, для скольких рецептов указана продолжительность, равная нулю. Замените для таких строк значение в данном столбце на 1."
   ]
  },
  {
   "cell_type": "code",
   "execution_count": 7,
   "metadata": {},
   "outputs": [
    {
     "data": {
      "text/plain": [
       "479"
      ]
     },
     "execution_count": 7,
     "metadata": {},
     "output_type": "execute_result"
    }
   ],
   "source": [
    "# подсчет кол-ва рецептов, продолжительность которых равна 0\n",
    "zero_value = np.where(data_3 == 0)\n",
    "# print(zero_value)\n",
    "quantity_of_zero_elements = zero_value[0].size\n",
    "quantity_of_zero_elements"
   ]
  },
  {
   "cell_type": "code",
   "execution_count": 8,
   "metadata": {},
   "outputs": [
    {
     "name": "stdout",
     "output_type": "stream",
     "text": [
      "[0]\n",
      "[1]\n",
      "[[ 60]\n",
      " [ 25]\n",
      " [ 10]\n",
      " ...\n",
      " [ 65]\n",
      " [  5]\n",
      " [140]]\n"
     ]
    }
   ],
   "source": [
    "#замена 0 на 1\n",
    "print(data_3[691])\n",
    "data_3[data_3 == 0 ] = 1\n",
    "print(data_3[691])\n",
    "print(data_3)"
   ]
  },
  {
   "cell_type": "markdown",
   "metadata": {},
   "source": [
    " 5. Посчитайте, сколько уникальных рецептов находится в датасете."
   ]
  },
  {
   "cell_type": "code",
   "execution_count": 9,
   "metadata": {},
   "outputs": [
    {
     "data": {
      "text/plain": [
       "100000"
      ]
     },
     "execution_count": 9,
     "metadata": {},
     "output_type": "execute_result"
    }
   ],
   "source": [
    "#проверка количества уникальных ай ди\n",
    "data_4 = data[:, 0]\n",
    "len(np.unique(data_4))"
   ]
  },
  {
   "cell_type": "markdown",
   "metadata": {},
   "source": [
    "6. Сколько и каких различных значений кол-ва ингредиентов присутвует в рецептах из датасета?"
   ]
  },
  {
   "cell_type": "code",
   "execution_count": 10,
   "metadata": {},
   "outputs": [
    {
     "name": "stdout",
     "output_type": "stream",
     "text": [
      "37\n",
      "[ 1  2  3  4  5  6  7  8  9 10 11 12 13 14 15 16 17 18 19 20 21 22 23 24\n",
      " 25 26 27 28 29 30 31 32 33 34 35 37 39]\n"
     ]
    }
   ],
   "source": [
    "data_5 = data[:, 2]\n",
    "print (len(np.unique(data_5)))\n",
    "print(np.unique(data_5))"
   ]
  },
  {
   "cell_type": "markdown",
   "metadata": {},
   "source": [
    "7. Создайте версию массива, содержащую информацию только о рецептах, состоящих не более чем из 5 ингредиентов."
   ]
  },
  {
   "cell_type": "code",
   "execution_count": 11,
   "metadata": {},
   "outputs": [
    {
     "name": "stdout",
     "output_type": "stream",
     "text": [
      "[[446597     15      5]\n",
      " [204134      5      3]\n",
      " [ 25623      6      4]\n",
      " ...\n",
      " [ 52088     60      5]\n",
      " [128811     15      4]\n",
      " [370915      5      4]]\n"
     ]
    }
   ],
   "source": [
    "recipies = np.where(data[:, 2] <= 5) [0]\n",
    "# print(recipies)\n",
    "# print(data)\n",
    "recipes_1 = data[recipies]\n",
    "print(recipes_1)"
   ]
  },
  {
   "cell_type": "markdown",
   "metadata": {},
   "source": [
    "8. Для каждого рецепта посчитайте, сколько в среднем ингредиентов приходится на одну минуту рецепта. Найдите максимальное значение этой величины для всего датасета"
   ]
  },
  {
   "cell_type": "code",
   "execution_count": 12,
   "metadata": {},
   "outputs": [
    {
     "data": {
      "text/plain": [
       "array([[0.26666667],\n",
       "       [0.28      ],\n",
       "       [0.6       ],\n",
       "       ...,\n",
       "       [0.23076923],\n",
       "       [0.8       ],\n",
       "       [0.1       ]])"
      ]
     },
     "execution_count": 12,
     "metadata": {},
     "output_type": "execute_result"
    }
   ],
   "source": [
    "#np.divide(data_5, data_3, dtype='float64')\n",
    "data_3 = data[:, 1:2]\n",
    "data_5 = data[:, 2:]\n",
    "# print(data_5)\n",
    "# print(data_3)\n",
    "(np.divide(data_5, data_3, dtype='float64'))\n",
    "#delenie = data_5/data_3\n"
   ]
  },
  {
   "cell_type": "code",
   "execution_count": 13,
   "metadata": {},
   "outputs": [
    {
     "data": {
      "text/plain": [
       "array([24.])"
      ]
     },
     "execution_count": 13,
     "metadata": {},
     "output_type": "execute_result"
    }
   ],
   "source": [
    "np.divide(data_5, data_3, dtype='float64').max(axis=0)"
   ]
  },
  {
   "cell_type": "markdown",
   "metadata": {},
   "source": [
    "9. Вычислите среднее количество ингредиентов для топ-100 рецептов с наибольшей продолжительностью"
   ]
  },
  {
   "cell_type": "code",
   "execution_count": 14,
   "metadata": {},
   "outputs": [
    {
     "name": "stdout",
     "output_type": "stream",
     "text": [
      "[ 8  7  2  4  7  5  3  3  5  5  4  2  9  2  4  3  2  3  3  7  5  4  3 22\n",
      "  4 15  8  3  2 17  3  9  3  5  7  3  8  6  5  4  5  6  4  2  8  6  8  6\n",
      "  8  3  4  4 10 11 12 11  4  4  5  9  7 12 10  5  9  6  3  6  4  9 13  2\n",
      "  3  6  5 13  8  5  5 10 13 17  8  5  8  8  3  8 14  3  8 12 13  8  7  6\n",
      "  7  8  4  6]\n",
      "6.61\n"
     ]
    }
   ],
   "source": [
    "data_type = np.dtype([('id', int), ('minutes', int), ('ingridients', int)])\n",
    "a = np.loadtxt(\"data/minutes_n_ingredients.csv\", dtype=data_type, delimiter=',', skiprows=1)\n",
    "#print(a)\n",
    "reverse_order = np.sort(a, order='minutes') [::-1]\n",
    "#print(reverse_order) \n",
    "top100 = reverse_order[0:100]\n",
    "print(top100['ingridients'])\n",
    "mean = np.mean(top100['ingridients'])\n",
    "print(mean)"
   ]
  },
  {
   "cell_type": "markdown",
   "metadata": {},
   "source": [
    "10. Выберите случайным образом и выведите информацию о 10 различных рецептах"
   ]
  },
  {
   "cell_type": "code",
   "execution_count": 15,
   "metadata": {},
   "outputs": [
    {
     "name": "stdout",
     "output_type": "stream",
     "text": [
      "[(369551,   6,  4) (477672,  30, 10) (236012,  90, 14) (349478, 485,  6)\n",
      " (207985,  25,  8) (122471, 135,  2) ( 81197,  30,  8) (105207,  70,  5)\n",
      " (386348,  45,  5) (178783,  15, 13)]\n"
     ]
    }
   ],
   "source": [
    "random_10 = np.random.choice(a, size=10, replace=False)\n",
    "print (random_10)"
   ]
  },
  {
   "cell_type": "markdown",
   "metadata": {},
   "source": [
    "11. Выведите процент рецептов, кол-во ингредиентов в которых меньше среднего."
   ]
  },
  {
   "cell_type": "code",
   "execution_count": 16,
   "metadata": {},
   "outputs": [
    {
     "name": "stdout",
     "output_type": "stream",
     "text": [
      "58.802\n"
     ]
    }
   ],
   "source": [
    "mean = np.mean(a['ingridients'])\n",
    "indexes_less_then_half = np.where(a[\"ingridients\"] < mean)[0]\n",
    "# print(indexes_less_then_half)\n",
    "indexes_quntity_less_then_half = indexes_less_then_half.size\n",
    "total_indexes = a.size\n",
    "# print(indexes_quntity_less_then_half)\n",
    "# print(total_indexes)\n",
    "percents = indexes_quntity_less_then_half/(total_indexes/100)\n",
    "print(percents)\n",
    "# В таблице строчка будет индекс + 2"
   ]
  },
  {
   "cell_type": "markdown",
   "metadata": {},
   "source": [
    "12. Назовем \"простым\" такой рецепт, длительность выполнения которого не больше 20 минут и кол-во ингредиентов в котором не больше 5. Создайте версию датасета с дополнительным столбцом, значениями которого являются 1, если рецепт простой, и 0 в противном случае."
   ]
  },
  {
   "cell_type": "code",
   "execution_count": 17,
   "metadata": {},
   "outputs": [
    {
     "name": "stdout",
     "output_type": "stream",
     "text": [
      "[[127244     60     16      0]\n",
      " [ 23891     25      7      0]\n",
      " [ 94746     10      6      0]\n",
      " ...\n",
      " [498432     65     15      0]\n",
      " [370915      5      4      1]\n",
      " [ 81993    140     14      0]]\n"
     ]
    }
   ],
   "source": [
    "data = np.loadtxt(\"data/minutes_n_ingredients.csv\",dtype=np.int32, delimiter=',', skiprows=1)\n",
    "\n",
    "data_with_zeros = np.insert(data, 3 , 0, axis=1)\n",
    "indexes_simple = np.where((data_with_zeros[:, 1] <= 20) & (data_with_zeros[:, 2] <= 5))\n",
    "data_with_zeros[indexes_simple, 3] = 1\n",
    "# print(indexes_simple)\n",
    "print(data_with_zeros)"
   ]
  },
  {
   "cell_type": "markdown",
   "metadata": {},
   "source": [
    "13. Выведите процент \"простых\" рецептов в датасете"
   ]
  },
  {
   "cell_type": "code",
   "execution_count": 18,
   "metadata": {},
   "outputs": [
    {
     "name": "stdout",
     "output_type": "stream",
     "text": [
      "9.552\n"
     ]
    }
   ],
   "source": [
    "indexes_quntity_simple = indexes_simple[0].size\n",
    "# print(indexes_quntity_simple)\n",
    "# print(total_indexes)\n",
    "percents = indexes_quntity_simple/(total_indexes/100)\n",
    "print(percents)"
   ]
  },
  {
   "cell_type": "markdown",
   "metadata": {},
   "source": [
    "14. Разделим рецепты на группы по следующему правилу. Назовем рецепты короткими, если их продолжительность составляет менее 10 минут; стандартными, если их продолжительность составляет более 10, но менее 20 минут; и длинными, если их продолжительность составляет не менее 20 минут. Создайте трехмерный массив, где нулевая ось отвечает за номер группы (короткий, стандартный или длинный рецепт), первая ось - за сам рецепт и вторая ось - за характеристики рецепта. Выберите максимальное количество рецептов из каждой группы таким образом, чтобы было возможно сформировать трехмерный массив. Выведите форму полученного массива."
   ]
  },
  {
   "cell_type": "code",
   "execution_count": 19,
   "metadata": {},
   "outputs": [
    {
     "name": "stdout",
     "output_type": "stream",
     "text": [
      "[[[ 67660      5      6]\n",
      "  [366174      7      9]\n",
      "  [204134      5      3]\n",
      "  ...\n",
      "  [420725      5      3]\n",
      "  [  4747      0      9]\n",
      "  [370915      5      4]]\n",
      "\n",
      " [[ 94746     10      6]\n",
      "  [ 33941     18      9]\n",
      "  [446597     15      5]\n",
      "  ...\n",
      "  [  9831     15      7]\n",
      "  [335859     12     14]\n",
      "  [256812     10      3]]\n",
      "\n",
      " [[127244     60     16]\n",
      "  [ 23891     25      7]\n",
      "  [157911     60     14]\n",
      "  ...\n",
      "  [168901     25      7]\n",
      "  [392339     35     13]\n",
      "  [206732     45     10]]]\n"
     ]
    }
   ],
   "source": [
    "data = np.loadtxt(\"data/minutes_n_ingredients.csv\", dtype=np.int32, delimiter=',', skiprows=1)\n",
    "\n",
    "indexes_short = np.where(data[:, 1] < 10)[0]\n",
    "indexes_standart = np.where((data[:, 1] >= 10) & ((data[:, 1] < 20)))[0]\n",
    "indexes_long = np.where(data[:, 1] >= 20)[0]\n",
    "data_short = data[indexes_short]\n",
    "data_standart = data[indexes_standart]\n",
    "data_long = data[indexes_long]\n",
    "\n",
    "data_standart_min = data_standart[0:indexes_short.size]\n",
    "data_long_min = data_long[0:indexes_short.size]\n",
    "\n",
    "data_short_exp = np.expand_dims(data_short, axis=(0))\n",
    "data_standart_exp = np.expand_dims(data_standart_min, axis=(0))\n",
    "\n",
    "data_long_exp = np.expand_dims(data_long_min, axis=(0))\n",
    "\n",
    "three_dem = np.vstack([data_short_exp, data_standart_exp, data_long_exp])\n",
    "print(three_dem)\n",
    "# print(three_dem.shape)\n"
   ]
  },
  {
   "cell_type": "code",
   "execution_count": null,
   "metadata": {},
   "outputs": [],
   "source": []
  }
 ],
 "metadata": {
  "kernelspec": {
   "display_name": "Python 3 (ipykernel)",
   "language": "python",
   "name": "python3"
  },
  "language_info": {
   "codemirror_mode": {
    "name": "ipython",
    "version": 3
   },
   "file_extension": ".py",
   "mimetype": "text/x-python",
   "name": "python",
   "nbconvert_exporter": "python",
   "pygments_lexer": "ipython3",
   "version": "3.9.13"
  }
 },
 "nbformat": 4,
 "nbformat_minor": 4
}
